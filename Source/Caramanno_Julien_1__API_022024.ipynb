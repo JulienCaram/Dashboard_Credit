{
 "cells": [
  {
   "cell_type": "markdown",
   "id": "a6521f3b-3dd5-42d6-8cf3-37a930ae5b66",
   "metadata": {},
   "source": [
    "# 1/5 API"
   ]
  },
  {
   "cell_type": "markdown",
   "id": "27fad4d6-ee09-417b-90aa-2aa40a93f821",
   "metadata": {},
   "source": [
    "# 1. Preliminary"
   ]
  },
  {
   "cell_type": "markdown",
   "id": "a84a3fe7-b383-43c8-bac2-703acd75949f",
   "metadata": {},
   "source": [
    "## 1.1 Context"
   ]
  },
  {
   "cell_type": "markdown",
   "id": "db3f7a22-a1df-4e3e-b06f-6846800849b3",
   "metadata": {},
   "source": [
    "Date : Février 2024  \n",
    "Auteur : Julien Caramanno  "
   ]
  },
  {
   "cell_type": "markdown",
   "id": "7bc43bb6-6819-4fc9-8bbd-500b43197e2d",
   "metadata": {},
   "source": [
    "## 1.2 Problem Statement"
   ]
  },
  {
   "cell_type": "markdown",
   "id": "c782f16b-bc0b-4925-bfc1-dfb4142366f3",
   "metadata": {},
   "source": [
    "L'objectif est de développer un modèle de scoring de la probabilité de défaut de paiement d'un client pour étayer la décision d'accorder ou non un prêt à un client potentiel et de mettre en production le modèle de scoring de prédiction à l’aide d’une API.\n",
    "\n",
    "Nous avons utiliser heroku pour la mise en production."
   ]
  },
  {
   "cell_type": "markdown",
   "id": "c5971ca5-74c9-4408-9ff4-c9925004d2d2",
   "metadata": {},
   "source": [
    "# 2. Lien vers L'API"
   ]
  },
  {
   "cell_type": "markdown",
   "id": "854091a7-41f0-4f12-8d64-878d4e2f0d4f",
   "metadata": {},
   "source": [
    "[API Crédit](https://apicredit-bfd7efc2dfcb.herokuapp.com/)"
   ]
  },
  {
   "cell_type": "markdown",
   "id": "4b25373f-fcf0-4826-9f62-cce2ad8f0481",
   "metadata": {},
   "source": [
    "https://apicredit-bfd7efc2dfcb.herokuapp.com/"
   ]
  }
 ],
 "metadata": {
  "kernelspec": {
   "display_name": "Python 3 (ipykernel)",
   "language": "python",
   "name": "python3"
  },
  "language_info": {
   "codemirror_mode": {
    "name": "ipython",
    "version": 3
   },
   "file_extension": ".py",
   "mimetype": "text/x-python",
   "name": "python",
   "nbconvert_exporter": "python",
   "pygments_lexer": "ipython3",
   "version": "3.11.7"
  }
 },
 "nbformat": 4,
 "nbformat_minor": 5
}
